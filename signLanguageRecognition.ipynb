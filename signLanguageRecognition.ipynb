{
 "cells": [
  {
   "cell_type": "markdown",
   "id": "1f5a3403a675b727",
   "metadata": {
    "collapsed": false
   },
   "source": [
    "1. Import and Install Dependencies"
   ]
  },
  {
   "cell_type": "code",
   "execution_count": null,
   "id": "initial_id",
   "metadata": {
    "ExecuteTime": {
     "end_time": "2024-02-24T02:21:05.451691200Z",
     "start_time": "2024-02-24T02:20:40.455968100Z"
    },
    "collapsed": true
   },
   "outputs": [],
   "source": [
    "import cv2\n",
    "import numpy as np\n",
    "import os\n",
    "from matplotlib import pyplot as plt\n",
    "import time\n",
    "import mediapipe as mp"
   ]
  },
  {
   "cell_type": "markdown",
   "id": "cf3b5430f4826d63",
   "metadata": {
    "collapsed": false
   },
   "source": []
  },
  {
   "cell_type": "markdown",
   "id": "2f2a957e904d2407",
   "metadata": {
    "collapsed": false
   },
   "source": [
    "2. Keypoints using MP Holistic"
   ]
  },
  {
   "cell_type": "code",
   "execution_count": null,
   "id": "5f8ce527999e95a2",
   "metadata": {
    "ExecuteTime": {
     "end_time": "2024-01-14T11:44:54.027088Z",
     "start_time": "2024-01-14T11:44:53.990310800Z"
    },
    "collapsed": false
   },
   "outputs": [],
   "source": [
    "mp_holistic = mp.solutions.holistic # Holistic model\n",
    "mp_drawing = mp.solutions.drawing_utils # Drawing utilities"
   ]
  },
  {
   "cell_type": "code",
   "execution_count": null,
   "id": "11a65d24a2b68a0c",
   "metadata": {
    "ExecuteTime": {
     "end_time": "2024-01-14T11:44:54.697873700Z",
     "start_time": "2024-01-14T11:44:54.676427600Z"
    },
    "collapsed": false
   },
   "outputs": [],
   "source": [
    "def mediapipe_detection(image,model):\n",
    "    image = cv2.cvtColor(image, cv2.COLOR_BGR2RGB) # COLOR CONVERSION BGR 2 RGB\n",
    "    image.flags.writeable = False                  # Image is no longer writeable\n",
    "    results = model.process(image)                 # Make prediction\n",
    "    image.flags.writeable = True                   # Image is writeable\n",
    "    image = cv2.cvtColor(image, cv2.COLOR_RGB2BGR) # COLOR CONVERSION RGB 2 BGR\n",
    "    return image, results"
   ]
  },
  {
   "cell_type": "code",
   "execution_count": null,
   "id": "ec21b5ab7ca5e677",
   "metadata": {
    "ExecuteTime": {
     "end_time": "2024-01-14T11:44:55.296534100Z",
     "start_time": "2024-01-14T11:44:55.268822400Z"
    },
    "collapsed": false
   },
   "outputs": [],
   "source": [
    "def draw_landmarks(image, results):\n",
    "    mp_drawing.draw_landmarks(image, results.face_landmarks, mp_holistic.FACEMESH_TESSELATION) # Draw face connections\n",
    "    mp_drawing.draw_landmarks(image, results.pose_landmarks, mp_holistic.POSE_CONNECTIONS) # Draw pose connections\n",
    "    mp_drawing.draw_landmarks(image, results.left_hand_landmarks, mp_holistic.HAND_CONNECTIONS) # Draw left hand connections\n",
    "    mp_drawing.draw_landmarks(image, results.right_hand_landmarks, mp_holistic.HAND_CONNECTIONS) # Draw right hand connections\n"
   ]
  },
  {
   "cell_type": "code",
   "execution_count": null,
   "id": "be6274d12b4f1675",
   "metadata": {
    "ExecuteTime": {
     "end_time": "2024-01-14T11:44:56.084898500Z",
     "start_time": "2024-01-14T11:44:56.044140600Z"
    },
    "collapsed": false
   },
   "outputs": [],
   "source": [
    "def draw_styled_landmarks(image, results):\n",
    "    # Draw face connections\n",
    "    mp_drawing.draw_landmarks(image, results.face_landmarks, mp_holistic.FACEMESH_TESSELATION, \n",
    "                             mp_drawing.DrawingSpec(color=(80,110,10), thickness=1, circle_radius=1), \n",
    "                             mp_drawing.DrawingSpec(color=(80,256,121), thickness=1, circle_radius=1)\n",
    "                             ) \n",
    "    # Draw pose connections\n",
    "    mp_drawing.draw_landmarks(image, results.pose_landmarks, mp_holistic.POSE_CONNECTIONS,\n",
    "                             mp_drawing.DrawingSpec(color=(80,22,10), thickness=2, circle_radius=4), \n",
    "                             mp_drawing.DrawingSpec(color=(80,44,121), thickness=2, circle_radius=2)\n",
    "                             ) \n",
    "    # Draw left hand connections\n",
    "    mp_drawing.draw_landmarks(image, results.left_hand_landmarks, mp_holistic.HAND_CONNECTIONS, \n",
    "                             mp_drawing.DrawingSpec(color=(121,22,76), thickness=2, circle_radius=4), \n",
    "                             mp_drawing.DrawingSpec(color=(121,44,250), thickness=2, circle_radius=2)\n",
    "                             ) \n",
    "    # Draw right hand connections  \n",
    "    mp_drawing.draw_landmarks(image, results.right_hand_landmarks, mp_holistic.HAND_CONNECTIONS, \n",
    "                             mp_drawing.DrawingSpec(color=(245,117,66), thickness=2, circle_radius=4), \n",
    "                             mp_drawing.DrawingSpec(color=(245,66,230), thickness=2, circle_radius=2)\n",
    "                             ) "
   ]
  },
  {
   "cell_type": "code",
   "execution_count": null,
   "id": "ba829ed36b940c2",
   "metadata": {
    "ExecuteTime": {
     "end_time": "2024-01-14T11:45:09.381658Z",
     "start_time": "2024-01-14T11:44:57.311320400Z"
    },
    "collapsed": false
   },
   "outputs": [],
   "source": [
    "cap = cv2.VideoCapture(0)\n",
    "#Access mediapipe model\n",
    "\n",
    "with mp_holistic.Holistic(min_detection_confidence=0.5,min_tracking_confidence=0.5) as holistic:\n",
    "  while cap.isOpened():\n",
    "     ret, frame = cap.read()\n",
    "     image, results = mediapipe_detection(frame,holistic)\n",
    "     print(results)\n",
    "     \n",
    "     draw_styled_landmarks(image, results)\n",
    "     \n",
    "     cv2.imshow('openCV Feed',image)\n",
    "     if cv2.waitKey(10) & 0xFF == ord('q'):\n",
    "         break\n",
    "  cap.release()\n",
    "  cv2.destroyAllWindows()"
   ]
  },
  {
   "cell_type": "code",
   "execution_count": null,
   "id": "e19713322b5521a6",
   "metadata": {
    "ExecuteTime": {
     "end_time": "2024-01-14T11:45:10.872249800Z",
     "start_time": "2024-01-14T11:45:10.847926500Z"
    },
    "collapsed": false
   },
   "outputs": [],
   "source": [
    "results"
   ]
  },
  {
   "cell_type": "code",
   "execution_count": null,
   "id": "8bc3e0c0c786f6cd",
   "metadata": {
    "ExecuteTime": {
     "end_time": "2024-01-14T11:45:11.846415100Z",
     "start_time": "2024-01-14T11:45:11.793358100Z"
    },
    "collapsed": false
   },
   "outputs": [],
   "source": [
    "draw_landmarks(frame, results)"
   ]
  },
  {
   "cell_type": "code",
   "execution_count": null,
   "id": "4f27750776aff150",
   "metadata": {
    "ExecuteTime": {
     "end_time": "2024-01-14T11:45:12.624240500Z",
     "start_time": "2024-01-14T11:45:12.321419300Z"
    },
    "collapsed": false
   },
   "outputs": [],
   "source": [
    "plt.imshow(cv2.cvtColor(frame, cv2.COLOR_BGR2RGB))"
   ]
  },
  {
   "cell_type": "markdown",
   "id": "529742532e3d2e04",
   "metadata": {
    "collapsed": false
   },
   "source": [
    "3. Extract Keypoint Values"
   ]
  },
  {
   "cell_type": "code",
   "execution_count": null,
   "id": "6d65f5e5d9579e37",
   "metadata": {
    "ExecuteTime": {
     "end_time": "2024-01-14T11:45:15.446273Z",
     "start_time": "2024-01-14T11:45:15.393531300Z"
    },
    "collapsed": false
   },
   "outputs": [],
   "source": [
    "len(results.pose_landmarks.landmark)"
   ]
  },
  {
   "cell_type": "code",
   "execution_count": null,
   "id": "c9d80eb8ba10570f",
   "metadata": {
    "ExecuteTime": {
     "end_time": "2024-01-14T11:45:16.219393100Z",
     "start_time": "2024-01-14T11:45:16.196921Z"
    },
    "collapsed": false
   },
   "outputs": [],
   "source": [
    "pose = []\n",
    "for res in results.pose_landmarks.landmark:\n",
    "    test = np.array([res.x, res.y, res.z, res.visibility])\n",
    "    pose.append(test)"
   ]
  },
  {
   "cell_type": "code",
   "execution_count": null,
   "id": "245e65ab75980ea5",
   "metadata": {
    "ExecuteTime": {
     "end_time": "2024-01-14T11:45:16.982992900Z",
     "start_time": "2024-01-14T11:45:16.947851400Z"
    },
    "collapsed": false
   },
   "outputs": [],
   "source": [
    "pose = np.array([[res.x, res.y, res.z, res.visibility] for res in results.pose_landmarks.landmark]).flatten() if results.pose_landmarks else np.zeros(132)\n",
    "face = np.array([[res.x, res.y, res.z] for res in results.face_landmarks.landmark]).flatten() if results.face_landmarks else np.zeros(1404)\n",
    "lh = np.array([[res.x, res.y, res.z] for res in results.left_hand_landmarks.landmark]).flatten() if results.left_hand_landmarks else np.zeros(21*3)\n",
    "rh = np.array([[res.x, res.y, res.z] for res in results.right_hand_landmarks.landmark]).flatten() if results.right_hand_landmarks else np.zeros(21*3)\n"
   ]
  },
  {
   "cell_type": "code",
   "execution_count": null,
   "id": "da3e564a6e9a792",
   "metadata": {
    "ExecuteTime": {
     "end_time": "2024-01-14T11:45:18.057634200Z",
     "start_time": "2024-01-14T11:45:18.005203500Z"
    },
    "collapsed": false
   },
   "outputs": [],
   "source": [
    "face = np.array([[res.x, res.y, res.z] for res in results.face_landmarks.landmark]).flatten() \n",
    "    if results.face_landmarks:\n",
    "    else np.zeros(1404):"
   ]
  },
  {
   "cell_type": "code",
   "execution_count": null,
   "id": "1b4641af57af8ac0",
   "metadata": {
    "ExecuteTime": {
     "end_time": "2024-01-14T11:45:19.499473700Z",
     "start_time": "2024-01-14T11:45:19.455428400Z"
    },
    "collapsed": false
   },
   "outputs": [],
   "source": [
    "def extract_keypoints(results):\n",
    "    pose = np.array([[res.x, res.y, res.z, res.visibility] for res in results.pose_landmarks.landmark]).flatten() if results.pose_landmarks else np.zeros(33*4)\n",
    "    face = np.array([[res.x, res.y, res.z] for res in results.face_landmarks.landmark]).flatten() if results.face_landmarks else np.zeros(468*3)\n",
    "    lh = np.array([[res.x, res.y, res.z] for res in results.left_hand_landmarks.landmark]).flatten() if results.left_hand_landmarks else np.zeros(21*3)\n",
    "    rh = np.array([[res.x, res.y, res.z] for res in results.right_hand_landmarks.landmark]).flatten() if results.right_hand_landmarks else np.zeros(21*3)\n",
    "    return np.concatenate([pose, face, lh, rh])"
   ]
  },
  {
   "cell_type": "markdown",
   "id": "7cde0eb89e9a9e15",
   "metadata": {
    "collapsed": false
   },
   "source": [
    "468*3 + 33*4 + 21*3 + 21*3 = 1662"
   ]
  },
  {
   "cell_type": "code",
   "execution_count": null,
   "id": "46fa3ca1a5330fc9",
   "metadata": {
    "ExecuteTime": {
     "end_time": "2024-01-14T11:45:21.583009200Z",
     "start_time": "2024-01-14T11:45:21.520212600Z"
    },
    "collapsed": false
   },
   "outputs": [],
   "source": [
    "result_test = extract_keypoints(results)"
   ]
  },
  {
   "cell_type": "code",
   "execution_count": null,
   "id": "f24ddac97a740800",
   "metadata": {
    "ExecuteTime": {
     "end_time": "2024-01-14T11:45:22.598386100Z",
     "start_time": "2024-01-14T11:45:22.544370300Z"
    },
    "collapsed": false
   },
   "outputs": [],
   "source": [
    "np.save('0',result_test)"
   ]
  },
  {
   "cell_type": "markdown",
   "id": "3936e9d885bc2034",
   "metadata": {
    "collapsed": false
   },
   "source": [
    "4. Setup Folder for Collection"
   ]
  },
  {
   "cell_type": "code",
   "execution_count": null,
   "id": "b0c92cf44289d098",
   "metadata": {
    "ExecuteTime": {
     "end_time": "2024-01-14T11:45:30.281603100Z",
     "start_time": "2024-01-14T11:45:30.261066200Z"
    },
    "collapsed": false
   },
   "outputs": [],
   "source": [
    "# Path for exported data, numpy arrays\n",
    "DATA_PATH = os.path.join('MP_Data') \n",
    "\n",
    "# Actions that we try to detect\n",
    "actions = np.array(['hello', 'thanks', 'iloveyou'])\n",
    "\n",
    "# Thirty videos worth of data\n",
    "no_sequences = 30\n",
    "\n",
    "# Videos are going to be 30 frames in length\n",
    "sequence_length = 30\n",
    "\n",
    "# Folder start\n",
    "#start_folder = 30"
   ]
  },
  {
   "cell_type": "code",
   "execution_count": null,
   "id": "d419c175f56c88a",
   "metadata": {
    "ExecuteTime": {
     "end_time": "2024-01-14T11:45:31.914216100Z",
     "start_time": "2024-01-14T11:45:31.876172400Z"
    },
    "collapsed": false
   },
   "outputs": [],
   "source": [
    "for action in actions: \n",
    "    for sequence in range(no_sequences):\n",
    "        try: \n",
    "            os.makedirs(os.path.join(DATA_PATH, action, str(sequence)))\n",
    "        except:\n",
    "            pass"
   ]
  },
  {
   "cell_type": "markdown",
   "id": "7b54781fdba54c0e",
   "metadata": {
    "collapsed": false
   },
   "source": [
    "5. Collect Keypoint Values for Training and Testing"
   ]
  },
  {
   "cell_type": "code",
   "execution_count": null,
   "id": "f7beb25ead8322c9",
   "metadata": {
    "ExecuteTime": {
     "end_time": "2024-01-14T11:50:48.630477500Z",
     "start_time": "2024-01-14T11:46:00.904429700Z"
    },
    "collapsed": false
   },
   "outputs": [],
   "source": [
    "cap = cv2.VideoCapture(0)\n",
    "# Set mediapipe model \n",
    "with mp_holistic.Holistic(min_detection_confidence=0.5, min_tracking_confidence=0.5) as holistic:\n",
    "    \n",
    "    # NEW LOOP\n",
    "    # Loop through actions\n",
    "    for action in actions:\n",
    "        # Loop through sequences aka videos\n",
    "        for sequence in range(no_sequences):\n",
    "            # Loop through video length aka sequence length\n",
    "            for frame_num in range(sequence_length):\n",
    "\n",
    "                # Read feed\n",
    "                ret, frame = cap.read()\n",
    "\n",
    "                # Make detections\n",
    "                image, results = mediapipe_detection(frame, holistic)\n",
    "\n",
    "                # Draw landmarks\n",
    "                draw_styled_landmarks(image, results)\n",
    "                \n",
    "                # NEW Apply wait logic\n",
    "                if frame_num == 0: \n",
    "                    cv2.putText(image, 'STARTING COLLECTION', (120,200), \n",
    "                               cv2.FONT_HERSHEY_SIMPLEX, 1, (0,255, 0), 1, cv2.LINE_AA)\n",
    "                    cv2.putText(image, 'Collecting frames for {} Video Number {}'.format(action, sequence), (15,12), \n",
    "                               cv2.FONT_HERSHEY_SIMPLEX, 0.5, (0, 0, 255), 1, cv2.LINE_AA)\n",
    "                    # Show to screen\n",
    "                    cv2.imshow('OpenCV Feed', image)\n",
    "                    cv2.waitKey(500)\n",
    "                else: \n",
    "                    cv2.putText(image, 'Collecting frames for {} Video Number {}'.format(action, sequence), (15,12), \n",
    "                               cv2.FONT_HERSHEY_SIMPLEX, 0.5, (0, 0, 255), 1, cv2.LINE_AA)\n",
    "                    # Show to screen\n",
    "                    cv2.imshow('OpenCV Feed', image)\n",
    "                \n",
    "                # NEW Export keypoints\n",
    "                keypoints = extract_keypoints(results)\n",
    "                npy_path = os.path.join(DATA_PATH, action, str(sequence), str(frame_num))\n",
    "                np.save(npy_path, keypoints)\n",
    "                \n",
    "\n",
    "                # Break gracefully\n",
    "                if cv2.waitKey(10) & 0xFF == ord('q'):\n",
    "                    break\n",
    "                    \n",
    "    cap.release()\n",
    "    cv2.destroyAllWindows()"
   ]
  },
  {
   "cell_type": "markdown",
   "id": "6ebe9b7d29045c04",
   "metadata": {
    "collapsed": false
   },
   "source": [
    "6. Pre-Processing Data and Create Labels and Features"
   ]
  },
  {
   "cell_type": "code",
   "execution_count": null,
   "id": "17bcb99e4e4b54ef",
   "metadata": {
    "ExecuteTime": {
     "end_time": "2024-01-14T11:50:55.644993500Z",
     "start_time": "2024-01-14T11:50:55.074707700Z"
    },
    "collapsed": false
   },
   "outputs": [],
   "source": [
    "from sklearn.model_selection import train_test_split\n",
    "from tensorflow.keras.utils import to_categorical"
   ]
  },
  {
   "cell_type": "code",
   "execution_count": null,
   "id": "f202ce40a6570198",
   "metadata": {
    "ExecuteTime": {
     "end_time": "2024-01-14T11:50:56.452856900Z",
     "start_time": "2024-01-14T11:50:56.415531300Z"
    },
    "collapsed": false
   },
   "outputs": [],
   "source": [
    "label_map = {label:num for num, label in enumerate(actions)}"
   ]
  },
  {
   "cell_type": "code",
   "execution_count": null,
   "id": "67682687ce08d464",
   "metadata": {
    "ExecuteTime": {
     "end_time": "2024-01-14T11:50:57.526083900Z",
     "start_time": "2024-01-14T11:50:57.497741700Z"
    },
    "collapsed": false
   },
   "outputs": [],
   "source": [
    "label_map"
   ]
  },
  {
   "cell_type": "code",
   "execution_count": null,
   "id": "e66d00812db3cdab",
   "metadata": {
    "ExecuteTime": {
     "end_time": "2024-01-14T11:50:59.106515400Z",
     "start_time": "2024-01-14T11:50:58.603981600Z"
    },
    "collapsed": false
   },
   "outputs": [],
   "source": [
    "sequences, labels = [], []\n",
    "for action in actions:\n",
    "    for sequence in range(no_sequences):\n",
    "        window = []\n",
    "        for frame_num in range(sequence_length):\n",
    "            res = np.load(os.path.join(DATA_PATH, action, str(sequence), \"{}.npy\".format(frame_num)))\n",
    "            window.append(res)\n",
    "        sequences.append(window)\n",
    "        labels.append(label_map[action])"
   ]
  },
  {
   "cell_type": "code",
   "execution_count": null,
   "id": "f0afbc8adb8d6ad5",
   "metadata": {
    "ExecuteTime": {
     "end_time": "2024-01-14T11:51:00.527183800Z",
     "start_time": "2024-01-14T11:51:00.468849300Z"
    },
    "collapsed": false
   },
   "outputs": [],
   "source": [
    "np.array(sequences).shape"
   ]
  },
  {
   "cell_type": "code",
   "execution_count": null,
   "id": "ba0a47df5c69d7b0",
   "metadata": {
    "ExecuteTime": {
     "end_time": "2024-01-14T11:51:01.187232200Z",
     "start_time": "2024-01-14T11:51:01.138456700Z"
    },
    "collapsed": false
   },
   "outputs": [],
   "source": [
    "np.array(labels).shape"
   ]
  },
  {
   "cell_type": "code",
   "execution_count": null,
   "id": "e177dca96283fdef",
   "metadata": {
    "ExecuteTime": {
     "end_time": "2024-01-14T11:51:01.750327900Z",
     "start_time": "2024-01-14T11:51:01.713766100Z"
    },
    "collapsed": false
   },
   "outputs": [],
   "source": [
    "X = np.array(sequences)"
   ]
  },
  {
   "cell_type": "code",
   "execution_count": null,
   "id": "69ed065e02d9958d",
   "metadata": {
    "ExecuteTime": {
     "end_time": "2024-01-14T11:51:02.481046800Z",
     "start_time": "2024-01-14T11:51:02.443638300Z"
    },
    "collapsed": false
   },
   "outputs": [],
   "source": [
    "X.shape"
   ]
  },
  {
   "cell_type": "code",
   "execution_count": null,
   "id": "26944d7266137b1b",
   "metadata": {
    "ExecuteTime": {
     "end_time": "2024-01-14T11:51:03.190871700Z",
     "start_time": "2024-01-14T11:51:03.165855200Z"
    },
    "collapsed": false
   },
   "outputs": [],
   "source": [
    "y = to_categorical(labels).astype(int)"
   ]
  },
  {
   "cell_type": "code",
   "execution_count": null,
   "id": "190b152390f8c947",
   "metadata": {
    "ExecuteTime": {
     "end_time": "2024-01-14T11:51:04.686038300Z",
     "start_time": "2024-01-14T11:51:04.654505900Z"
    },
    "collapsed": false
   },
   "outputs": [],
   "source": [
    "X_train, X_test, y_train, y_test = train_test_split(X, y, test_size=0.05)"
   ]
  },
  {
   "cell_type": "code",
   "execution_count": null,
   "id": "b8547f2dcc8f50ae",
   "metadata": {
    "ExecuteTime": {
     "end_time": "2024-01-14T11:51:05.244720600Z",
     "start_time": "2024-01-14T11:51:05.191780500Z"
    },
    "collapsed": false
   },
   "outputs": [],
   "source": [
    "y_test.shape"
   ]
  },
  {
   "cell_type": "markdown",
   "id": "39386fb3b2112c72",
   "metadata": {
    "collapsed": false
   },
   "source": [
    "7. Build and Train LSTM Neural Network"
   ]
  },
  {
   "cell_type": "code",
   "execution_count": null,
   "id": "d44ded5cdb2f6c92",
   "metadata": {
    "ExecuteTime": {
     "end_time": "2024-01-14T11:51:07.642909Z",
     "start_time": "2024-01-14T11:51:07.603692800Z"
    },
    "collapsed": false
   },
   "outputs": [],
   "source": [
    "from tensorflow.keras.models import Sequential\n",
    "from tensorflow.keras.layers import LSTM, Dense\n",
    "from tensorflow.keras.callbacks import TensorBoard"
   ]
  },
  {
   "cell_type": "code",
   "execution_count": null,
   "id": "b6d9c7d6d3184b84",
   "metadata": {
    "ExecuteTime": {
     "end_time": "2024-01-14T11:51:09.553168100Z",
     "start_time": "2024-01-14T11:51:09.524738300Z"
    },
    "collapsed": false
   },
   "outputs": [],
   "source": [
    "log_dir = os.path.join('Logs')\n",
    "tb_callback = TensorBoard(log_dir=log_dir)"
   ]
  },
  {
   "cell_type": "code",
   "execution_count": null,
   "id": "37d1c76c9ac1737",
   "metadata": {
    "ExecuteTime": {
     "end_time": "2024-01-14T11:51:11.674085500Z",
     "start_time": "2024-01-14T11:51:11.165203700Z"
    },
    "collapsed": false
   },
   "outputs": [],
   "source": [
    "model = Sequential()\n",
    "model.add(LSTM(64, return_sequences=True, activation='relu', input_shape=(30,1662)))\n",
    "model.add(LSTM(128, return_sequences=True, activation='relu'))\n",
    "model.add(LSTM(64, return_sequences=False, activation='relu'))\n",
    "model.add(Dense(64, activation='relu'))\n",
    "model.add(Dense(32, activation='relu'))\n",
    "model.add(Dense(actions.shape[0], activation='softmax'))"
   ]
  },
  {
   "cell_type": "code",
   "execution_count": null,
   "id": "f38ac6d7ccba6c23",
   "metadata": {
    "ExecuteTime": {
     "end_time": "2024-01-14T11:51:12.817611200Z",
     "start_time": "2024-01-14T11:51:12.762735500Z"
    },
    "collapsed": false
   },
   "outputs": [],
   "source": [
    "X.shape"
   ]
  },
  {
   "cell_type": "code",
   "execution_count": null,
   "id": "c098946340c6c8e0",
   "metadata": {
    "ExecuteTime": {
     "end_time": "2024-01-14T11:51:13.862679900Z",
     "start_time": "2024-01-14T11:51:13.836076Z"
    },
    "collapsed": false
   },
   "outputs": [],
   "source": [
    "res = [0.7,0.2,0.1]"
   ]
  },
  {
   "cell_type": "code",
   "execution_count": null,
   "id": "80e3930fe2dc8d46",
   "metadata": {
    "ExecuteTime": {
     "end_time": "2024-01-14T11:51:16.863980Z",
     "start_time": "2024-01-14T11:51:16.837313Z"
    },
    "collapsed": false
   },
   "outputs": [],
   "source": [
    "actions[np.argmax(res)]"
   ]
  },
  {
   "cell_type": "code",
   "execution_count": null,
   "id": "c146e92da6e8026b",
   "metadata": {
    "ExecuteTime": {
     "end_time": "2024-01-14T11:51:19.010147900Z",
     "start_time": "2024-01-14T11:51:18.938978500Z"
    },
    "collapsed": false
   },
   "outputs": [],
   "source": [
    "model.compile(optimizer='Adam', loss='categorical_crossentropy', metrics=['categorical_accuracy'])"
   ]
  },
  {
   "cell_type": "code",
   "execution_count": null,
   "id": "da67c34e1aae7c4",
   "metadata": {
    "ExecuteTime": {
     "end_time": "2024-01-14T11:58:36.833669800Z",
     "start_time": "2024-01-14T11:51:20.312822700Z"
    },
    "collapsed": false
   },
   "outputs": [],
   "source": [
    "model.fit(X_train, y_train, epochs=2000, callbacks=[tb_callback])"
   ]
  },
  {
   "cell_type": "code",
   "execution_count": null,
   "id": "1f31ec6d02dbb09a",
   "metadata": {
    "ExecuteTime": {
     "end_time": "2024-01-14T11:58:53.550077600Z",
     "start_time": "2024-01-14T11:58:53.407565Z"
    },
    "collapsed": false
   },
   "outputs": [],
   "source": [
    "model.summary()"
   ]
  },
  {
   "cell_type": "markdown",
   "id": "20dc761737be5abe",
   "metadata": {
    "collapsed": false
   },
   "source": [
    "8. Make Predictions"
   ]
  },
  {
   "cell_type": "code",
   "execution_count": null,
   "id": "3ed6c10c098ab431",
   "metadata": {
    "ExecuteTime": {
     "end_time": "2024-01-14T11:58:58.890588500Z",
     "start_time": "2024-01-14T11:58:58.359520700Z"
    },
    "collapsed": false
   },
   "outputs": [],
   "source": [
    "res = model.predict(X_test)"
   ]
  },
  {
   "cell_type": "code",
   "execution_count": null,
   "id": "a0cde1aa44668b87",
   "metadata": {
    "ExecuteTime": {
     "end_time": "2024-01-14T11:59:00.501462500Z",
     "start_time": "2024-01-14T11:59:00.478601600Z"
    },
    "collapsed": false
   },
   "outputs": [],
   "source": [
    "actions[np.argmax(res[4])]"
   ]
  },
  {
   "cell_type": "code",
   "execution_count": null,
   "id": "ff2453f58c58164e",
   "metadata": {
    "ExecuteTime": {
     "end_time": "2024-01-14T11:59:02.111359600Z",
     "start_time": "2024-01-14T11:59:02.085543200Z"
    },
    "collapsed": false
   },
   "outputs": [],
   "source": [
    "actions[np.argmax(y_test[4])]"
   ]
  },
  {
   "cell_type": "markdown",
   "id": "e89b0b79e245c9e5",
   "metadata": {
    "collapsed": false
   },
   "source": [
    "9. Save Weights"
   ]
  },
  {
   "cell_type": "code",
   "execution_count": null,
   "id": "d842f485f41fb9ee",
   "metadata": {
    "ExecuteTime": {
     "end_time": "2024-01-14T11:59:10.335790800Z",
     "start_time": "2024-01-14T11:59:10.264510400Z"
    },
    "collapsed": false
   },
   "outputs": [],
   "source": [
    "model.save('action.h5')"
   ]
  },
  {
   "cell_type": "markdown",
   "id": "2e8eecc3d9113342",
   "metadata": {
    "collapsed": false
   },
   "source": [
    "del is used to delete the model"
   ]
  },
  {
   "cell_type": "code",
   "execution_count": null,
   "id": "e5a775e512f567c5",
   "metadata": {
    "collapsed": false
   },
   "outputs": [],
   "source": [
    "del model"
   ]
  },
  {
   "cell_type": "code",
   "execution_count": null,
   "id": "75807e0e932ac485",
   "metadata": {
    "ExecuteTime": {
     "end_time": "2024-01-14T11:59:16.596186700Z",
     "start_time": "2024-01-14T11:59:16.546770800Z"
    },
    "collapsed": false
   },
   "outputs": [],
   "source": [
    "model.load_weights('action.h5')"
   ]
  },
  {
   "cell_type": "markdown",
   "id": "f053734b58cae11c",
   "metadata": {
    "collapsed": false
   },
   "source": [
    "10. Evaluation using Confusion Matrix and Accuracy"
   ]
  },
  {
   "cell_type": "code",
   "execution_count": null,
   "id": "7dd059d45c29736d",
   "metadata": {
    "ExecuteTime": {
     "end_time": "2024-01-14T11:59:19.781828600Z",
     "start_time": "2024-01-14T11:59:19.752355Z"
    },
    "collapsed": false
   },
   "outputs": [],
   "source": [
    "from sklearn.metrics import multilabel_confusion_matrix, accuracy_score"
   ]
  },
  {
   "cell_type": "code",
   "execution_count": null,
   "id": "d326e281a6341f0b",
   "metadata": {
    "ExecuteTime": {
     "end_time": "2024-01-14T11:59:21.156041400Z",
     "start_time": "2024-01-14T11:59:21.042729900Z"
    },
    "collapsed": false
   },
   "outputs": [],
   "source": [
    "yhat = model.predict(X_test)"
   ]
  },
  {
   "cell_type": "code",
   "execution_count": null,
   "id": "be907c7a8fc62a6e",
   "metadata": {
    "ExecuteTime": {
     "end_time": "2024-01-14T11:59:22.421170Z",
     "start_time": "2024-01-14T11:59:22.374412900Z"
    },
    "collapsed": false
   },
   "outputs": [],
   "source": [
    "ytrue = np.argmax(y_test, axis=1).tolist()\n",
    "yhat = np.argmax(yhat, axis=1).tolist()"
   ]
  },
  {
   "cell_type": "code",
   "execution_count": null,
   "id": "a233e3673757bcba",
   "metadata": {
    "ExecuteTime": {
     "end_time": "2024-01-14T11:59:23.885912600Z",
     "start_time": "2024-01-14T11:59:23.833645300Z"
    },
    "collapsed": false
   },
   "outputs": [],
   "source": [
    "ytrue"
   ]
  },
  {
   "cell_type": "code",
   "execution_count": null,
   "id": "43a8a7a71c3c42e8",
   "metadata": {
    "ExecuteTime": {
     "end_time": "2024-01-14T11:59:24.961277Z",
     "start_time": "2024-01-14T11:59:24.878727700Z"
    },
    "collapsed": false
   },
   "outputs": [],
   "source": [
    "multilabel_confusion_matrix(ytrue, yhat)"
   ]
  },
  {
   "cell_type": "code",
   "execution_count": null,
   "id": "89831c0bfd3f09c",
   "metadata": {
    "ExecuteTime": {
     "end_time": "2024-01-14T11:59:26.483061200Z",
     "start_time": "2024-01-14T11:59:26.418536900Z"
    },
    "collapsed": false
   },
   "outputs": [],
   "source": [
    "accuracy_score(ytrue, yhat)"
   ]
  },
  {
   "cell_type": "markdown",
   "id": "8e5c69932e444daa",
   "metadata": {
    "collapsed": false
   },
   "source": [
    "11. Test in Real Time"
   ]
  },
  {
   "cell_type": "code",
   "execution_count": null,
   "id": "a8861f7dfe8a411d",
   "metadata": {
    "ExecuteTime": {
     "end_time": "2024-01-14T11:59:29.382689500Z",
     "start_time": "2024-01-14T11:59:29.345703100Z"
    },
    "collapsed": false
   },
   "outputs": [],
   "source": [
    "from scipy import stats"
   ]
  },
  {
   "cell_type": "code",
   "execution_count": null,
   "id": "9bdeb2fbef2eee91",
   "metadata": {
    "ExecuteTime": {
     "end_time": "2024-01-14T11:59:30.629079100Z",
     "start_time": "2024-01-14T11:59:30.603713200Z"
    },
    "collapsed": false
   },
   "outputs": [],
   "source": [
    "colors = [(245,117,16), (117,245,16), (16,117,245)]\n",
    "def prob_viz(res, actions, input_frame, colors):\n",
    "    output_frame = input_frame.copy()\n",
    "    for num, prob in enumerate(res):\n",
    "        cv2.rectangle(output_frame, (0,60+num*40), (int(prob*100), 90+num*40), colors[num], -1)\n",
    "        cv2.putText(output_frame, actions[num], (0, 85+num*40), cv2.FONT_HERSHEY_SIMPLEX, 1, (255,255,255), 2, cv2.LINE_AA)\n",
    "        \n",
    "    return output_frame"
   ]
  },
  {
   "cell_type": "code",
   "execution_count": null,
   "id": "e5d25ec0c0437ec1",
   "metadata": {
    "ExecuteTime": {
     "end_time": "2024-01-14T12:21:05.379129800Z",
     "start_time": "2024-01-14T12:20:03.502959900Z"
    },
    "collapsed": false
   },
   "outputs": [],
   "source": [
    "sequence = []\n",
    "sentence = []\n",
    "predictions = []\n",
    "threshold = 0.5\n",
    "\n",
    "cap = cv2.VideoCapture(0)\n",
    "# Set mediapipe model \n",
    "with mp_holistic.Holistic(min_detection_confidence=0.5, min_tracking_confidence=0.5) as holistic:\n",
    "    while cap.isOpened():\n",
    "\n",
    "        # Read feed\n",
    "        ret, frame = cap.read()\n",
    "\n",
    "        # Make detections\n",
    "        image, results = mediapipe_detection(frame, holistic)\n",
    "        print(results)\n",
    "        \n",
    "        # Draw landmarks\n",
    "        draw_styled_landmarks(image, results)\n",
    "        \n",
    "        # 2. Prediction logic\n",
    "        keypoints = extract_keypoints(results)\n",
    "        sequence.append(keypoints)\n",
    "        sequence = sequence[-30:]\n",
    "        if len(sequence) == 30:\n",
    "            res = model.predict(np.expand_dims(sequence, axis=0))[0]\n",
    "            print(actions[np.argmax(res)])\n",
    "            predictions.append(np.argmax(res))\n",
    "            \n",
    "            \n",
    "        #3. Viz logic\n",
    "            if np.unique(predictions[-10:])[0]==np.argmax(res): \n",
    "                if res[np.argmax(res)] > threshold: \n",
    "                    \n",
    "                    if len(sentence) > 0: \n",
    "                        if actions[np.argmax(res)] != sentence[-1]:\n",
    "                            sentence.append(actions[np.argmax(res)])\n",
    "                    else:\n",
    "                        sentence.append(actions[np.argmax(res)])\n",
    "\n",
    "            if len(sentence) > 5: \n",
    "                sentence = sentence[-5:]\n",
    "\n",
    "            # Viz probabilities\n",
    "            image = prob_viz(res, actions, image, colors)\n",
    "            \n",
    "        cv2.rectangle(image, (0,0), (640, 40), (245, 117, 16), -1)\n",
    "        cv2.putText(image, ' '.join(sentence), (3,30), \n",
    "                       cv2.FONT_HERSHEY_SIMPLEX, 1, (255, 255, 255), 2, cv2.LINE_AA)\n",
    "        \n",
    "        # Show to screen\n",
    "        cv2.imshow('OpenCV Feed', image)\n",
    "\n",
    "        # Break gracefully\n",
    "        if cv2.waitKey(10) & 0xFF == ord('q'):\n",
    "            break\n",
    "    cap.release()\n",
    "    cv2.destroyAllWindows()"
   ]
  },
  {
   "cell_type": "code",
   "execution_count": null,
   "id": "f467a10eea0a8c4a",
   "metadata": {
    "ExecuteTime": {
     "end_time": "2024-01-14T12:19:44.688550900Z",
     "start_time": "2024-01-14T12:19:44.555415300Z"
    },
    "collapsed": false
   },
   "outputs": [],
   "source": [
    "model.predict(X_test[0])"
   ]
  },
  {
   "cell_type": "code",
   "execution_count": null,
   "id": "48e1b4bba646bfc8",
   "metadata": {
    "ExecuteTime": {
     "end_time": "2024-01-14T12:19:53.543770700Z",
     "start_time": "2024-01-14T12:19:53.206320Z"
    },
    "collapsed": false
   },
   "outputs": [],
   "source": [
    "cap.release()\n",
    "cv2.destroyAllWindows()"
   ]
  },
  {
   "cell_type": "code",
   "execution_count": null,
   "id": "5c70118d520ac101",
   "metadata": {
    "collapsed": false
   },
   "outputs": [],
   "source": [
    "plt.figure(figsize=(18,18))\n",
    "plt.imshow(prob_viz(res, actions, image, colors))"
   ]
  },
  {
   "cell_type": "code",
   "execution_count": null,
   "id": "ad836db0b2a340f",
   "metadata": {
    "collapsed": false
   },
   "outputs": [],
   "source": [
    "res[np.argmax(res)] > threshold"
   ]
  }
 ],
 "metadata": {
  "kernelspec": {
   "display_name": "Python 3",
   "language": "python",
   "name": "python3"
  },
  "language_info": {
   "codemirror_mode": {
    "name": "ipython",
    "version": 3
   },
   "file_extension": ".py",
   "mimetype": "text/x-python",
   "name": "python",
   "nbconvert_exporter": "python",
   "pygments_lexer": "ipython3",
   "version": "3.10.11"
  }
 },
 "nbformat": 4,
 "nbformat_minor": 5
}
